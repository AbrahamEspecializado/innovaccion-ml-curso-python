{
  "nbformat": 4,
  "nbformat_minor": 0,
  "metadata": {
    "kernelspec": {
      "name": "python36",
      "display_name": "Python 3.6",
      "language": "python"
    },
    "language_info": {
      "mimetype": "text/x-python",
      "nbconvert_exporter": "python",
      "name": "python",
      "pygments_lexer": "ipython3",
      "version": "3.6.6",
      "file_extension": ".py",
      "codemirror_mode": {
        "version": 3,
        "name": "ipython"
      }
    },
    "colab": {
      "name": "01. Introducción a Jupyter Notebooks y datos.ipynb",
      "provenance": [],
      "collapsed_sections": [],
      "include_colab_link": true
    }
  },
  "cells": [
    {
      "cell_type": "markdown",
      "metadata": {
        "id": "view-in-github",
        "colab_type": "text"
      },
      "source": [
        "<a href=\"https://colab.research.google.com/github/RodolfoFerro/innovaccion-ml-curso-python/blob/master/notebooks/01_Introducci%C3%B3n_a_Jupyter_Notebooks_y_datos.ipynb\" target=\"_parent\"><img src=\"https://colab.research.google.com/assets/colab-badge.svg\" alt=\"Open In Colab\"/></a>"
      ]
    },
    {
      "cell_type": "markdown",
      "metadata": {
        "id": "thm75Vdx9ccV",
        "colab_type": "text"
      },
      "source": [
        "# ¡Bienvenidas y bienvenidos!\n",
        "\n",
        "Python es un lenguaje de programación de código abierto gratuito que es extremadamente popular para el análisis estadístico y la IA.\n",
        "\n",
        "Aquí, te daremos una idea de cómo es usar Python.\n",
        "\n",
        "Empecemos. Te proporcionaremos los datos y los limpiaremos para que estén listos para el análisis. Puedes **moverte por los pasos haciendo clic en el botón _Ejecutar_** justo encima de este cuaderno."
      ]
    },
    {
      "cell_type": "markdown",
      "metadata": {
        "id": "M6Aax2wm9ccW",
        "colab_type": "text"
      },
      "source": [
        "## Ejercicio 1 - Introducción a los Jupyter Notebooks\n",
        "\n",
        "El propósito de este ejercicio es que te familiarices con el uso de los Jupyter Notebooks en el entorno de Colab. No te preocupes si te resulta difícil codificar, este no es un curso de Python. Poco a poco aprenderás más a medida que avanzas y definitivamente no es necesario que comprendas cada línea de código."
      ]
    },
    {
      "cell_type": "markdown",
      "metadata": {
        "id": "3Mj80tdD-d4a",
        "colab_type": "text"
      },
      "source": [
        "### Paso 1\n",
        "\n",
        "Estos cuadernos contienen celdas (espacios) donde puede ejecutar código, como a continuación.\n",
        "\n",
        "Vamos a ejecutarlo. Haz click para poner el cursor en el bloque de código a continuación, luego presiona `Ejecutar` en la barra de herramientas de arriba (o presiona **Shift + Enter**) para ejecutar el código."
      ]
    },
    {
      "cell_type": "code",
      "metadata": {
        "trusted": true,
        "id": "OKu_FJKN9ccY",
        "colab_type": "code",
        "colab": {}
      },
      "source": [
        "print(\"¡El código se ejecutó de manera exitosa!\")"
      ],
      "execution_count": null,
      "outputs": []
    },
    {
      "cell_type": "markdown",
      "metadata": {
        "id": "HEP8ampO9ccc",
        "colab_type": "text"
      },
      "source": [
        "Si todo salió bien, el código debió imprimir un mensaje para ti.\n",
        "\n",
        "Al comienzo de la mayoría de los ejercicios de programación, tenemos que cargar (o importar) herramientas que nos ayuden a hacer las cosas fácilmente, como crear gráficos.\n",
        "\n",
        "Posiciónate en el código a continuación, luego **presiona el botón `Ejecutar` (o de nuevo, usar Shift + Enter) para cargar las capacidades de gráficos, pues los usaremos para más adelante en el ejercicio**."
      ]
    },
    {
      "cell_type": "code",
      "metadata": {
        "trusted": true,
        "id": "dPt1_5g39ccd",
        "colab_type": "code",
        "colab": {}
      },
      "source": [
        "import warnings\n",
        "warnings.filterwarnings(\"ignore\")\n",
        "import matplotlib.pyplot as graph"
      ],
      "execution_count": null,
      "outputs": []
    },
    {
      "cell_type": "markdown",
      "metadata": {
        "id": "YTguGxFM9cci",
        "colab_type": "text"
      },
      "source": [
        "### Paso 2\n",
        "\n",
        "Hagamos que imprima un mensaje que tú elijas esta vez.\n",
        "\n",
        "**- A continuación, escribe un mensaje (texto) entre las comillas y luego ejecuta la celda.**\n",
        "\n",
        "Está bien usar espacios, números o letras. Tu mensaje debe verse en rojo. Por ejemplo: \n",
        "```python\n",
        "print(\"Este es mi mensaje.\")\n",
        "```"
      ]
    },
    {
      "cell_type": "code",
      "metadata": {
        "trusted": true,
        "id": "qY-eK_I09ccj",
        "colab_type": "code",
        "colab": {}
      },
      "source": [
        "###\n",
        "# ESCRIBE UN MENSAJE ENTRE LAS COMILLAS DE LA LÍNEA DE ABAJO,\n",
        "# LUEGO EJECUTA EL CÓDIGO.\n",
        "###\n",
        "print(\"¡Escribe algo aquí!\")\n",
        "###"
      ],
      "execution_count": null,
      "outputs": []
    },
    {
      "cell_type": "markdown",
      "metadata": {
        "id": "IauQzBG19ccm",
        "colab_type": "text"
      },
      "source": [
        "Notarás símbolos de almohadilla (`#`). Cualquier cosa después de un '#' es ignorada por la computadora. Esto se llama **comentario** y nos permite dejar notas para comprender mejor el código."
      ]
    },
    {
      "cell_type": "markdown",
      "metadata": {
        "id": "x_P_wZob9ccm",
        "colab_type": "text"
      },
      "source": [
        "### Paso 3\n",
        "\n",
        "Python nos permite guardar cosas y usarlas más tarde. En este ejercicio guardaremos tu mensaje."
      ]
    },
    {
      "cell_type": "code",
      "metadata": {
        "trusted": true,
        "id": "y0Bma_dZ9ccn",
        "colab_type": "code",
        "colab": {}
      },
      "source": [
        "###\n",
        "# ESCRIBE UN MENSAJE ENTRE LAS COMILLAS DE LA LÍNEA DE ABAJO,\n",
        "# LUEGO EJECUTA EL CÓDIGO.\n",
        "###\n",
        "mi_mensaje = \"\"\n",
        "###\n",
        "\n",
        "print(mi_mensaje) "
      ],
      "execution_count": null,
      "outputs": []
    },
    {
      "cell_type": "markdown",
      "metadata": {
        "id": "RzgM4_oI9cct",
        "colab_type": "text"
      },
      "source": [
        "Bien, ¿qué pasó aquí?\n",
        "\n",
        "En el mundo real, podríamos poner algo en un sobre (como una carta o una imagen). En el sobre escribimos algo (dale un nombre), como **\"mi_carta_para_Alicia\"**.\n",
        "\n",
        "En una computadora, hacemos algo similar. Lo que contiene información (como el sobre) se llama **variable**; y también le damos un nombre a cada una.\n",
        "\n",
        "De hecho, ya lo hiciste.\n",
        "\n",
        "Primero, creaste un mensaje, luego lo guardaste en una **variable** llamada `mi_mensaje`:\n",
        "\n",
        "```\n",
        "mi_mensaje = \"¡Este es mi mensaje!\"\n",
        "              ↑↑↑\n",
        "              el mensaje que escribiste\n",
        " \n",
        "mi_mensaje = \"¡Este es mi mensaje!\"\n",
        "          ↑↑↑\n",
        "          el símbolo igual significa que guardas el texto en la variable a la izquierda\n",
        "     \n",
        "mi_mensaje = \"¡Este es mi mensaje!\"\n",
        "↑↑↑\n",
        "este es el nombre de la variable (¡nunca debe tener espacios entre las palabras, ni acentos!)\n",
        "```"
      ]
    },
    {
      "cell_type": "markdown",
      "metadata": {
        "id": "FaPB_Ied9cct",
        "colab_type": "text"
      },
      "source": [
        "### Paso 4\n",
        "\n",
        "Intentemos usar variables nuevamente, pero esta vez guarda un número dentro de la variable. Recuerda, la variable está en el _lado izquierdo_ del símbolo de asignación `=` y es el equivalente a una etiqueta del valor numérico. La información del _lado derecho_ es la información que queremos almacenar dentro de la variable.\n",
        "\n",
        "**En la celda de abajo, reemplaza `<tu_número>` con cualquier número que elijas, por ejemplo, tu edad.**\n",
        "\n",
        "Luego **ejecuta el código**."
      ]
    },
    {
      "cell_type": "code",
      "metadata": {
        "trusted": true,
        "id": "Y1HPQP-I9ccu",
        "colab_type": "code",
        "colab": {}
      },
      "source": [
        "###\n",
        "# REEMPLAZA <tu_número> ABAJO CON CUALQUIER NÚMERO\n",
        "# QUITA COMPLETAMENTE EL TEXTO <tu_número> (INCLUYENDO\n",
        "# LOS SÍMBOLOS < >) Y SUSTITUYE CON EL NÚMERO\n",
        "###\n",
        "mi_primer_numero = <tu_número>\n",
        "###\n",
        "\n",
        "print(mi_primer_numero)\n",
        "print(mi_primer_numero)"
      ],
      "execution_count": null,
      "outputs": []
    },
    {
      "cell_type": "markdown",
      "metadata": {
        "id": "PAu00wNH9ccz",
        "colab_type": "text"
      },
      "source": [
        "¿Que sucedió aquí?\n",
        "\n",
        "En el mundo real, podríamos hacer algo con esta información. Por ejemplo, podríamos elegir leerlo. Podemos leerlo tantas veces como queramos.\n",
        "\n",
        "En la computadora, también podemos hacer cosas con esta información. Aquí, le pediste a la computadora que imprimiera el mensaje en la pantalla dos veces con el código que ejecutaste:\n",
        "\n",
        "```\n",
        "print(mi_primer_numero)\n",
        "print(mi_primer_numero)\n",
        "```"
      ]
    },
    {
      "cell_type": "markdown",
      "metadata": {
        "id": "0yJ-yNLu9cc0",
        "colab_type": "text"
      },
      "source": [
        "Sin embargo, ¿cómo hiciste esto?\n",
        "\n",
        "```\n",
        "print(....)\n",
        "↑↑↑\n",
        "```\n",
        "Esto es lo que le pediste a la computadora que haga. Es un **método** llamado imprimir (print, en inglés). Hay muchos métodos disponibles. Pronto utilizaremos métodos que hacen gráficos.\n",
        "```\n",
        "print(....)\n",
        "     ↑    ↑\n",
        "```\n",
        "Los métodos tienen paréntesis. Lo que escribes dentro de éstos es lo que le \"pasamos\" (lo que alimenta) el método. \n",
        "```\n",
        "print(mi_primer_numero)\n",
        "      ↑↑↑\n",
        "```\n",
        "En este caso, le pasaste la variable `mi_primer_numero` al método, y lo tomó y lo imprimó en la pantalla."
      ]
    },
    {
      "cell_type": "markdown",
      "metadata": {
        "id": "mTwkbVJhVDCi",
        "colab_type": "text"
      },
      "source": [
        "\n",
        "### Paso 5\n",
        "\n",
        "Ok, hagamos un gráfico a partir de algunos datos.\n",
        "\n",
        "**En la celda de abajo, reemplaza `<tu_número>` con cualquier número que elijas, para cada una de las veces que aparezca.**\n",
        "\n",
        "Luego **ejecute el código** para hacer un gráfico."
      ]
    },
    {
      "cell_type": "code",
      "metadata": {
        "trusted": true,
        "id": "IdcOwzxM9cc2",
        "colab_type": "code",
        "colab": {}
      },
      "source": [
        "# Estos son nuestros valores X\n",
        "x_valores = [1, 2, 3]\n",
        "\n",
        "###\n",
        "# DEBAJO, AL INTERIOR DE LOS CORCHETES, REEMPLAZA CADA UNO DE LOS\n",
        "# <tu_número> CON UN NÚMERO (QUE TÚ QUIERAS)\n",
        "###\n",
        "y_valores = [<tu_número>, <tu_número>, <tu_número>]\n",
        "###\n",
        "\n",
        "# Por ejemplo, puedes añadir cambios como este: y_valores = [3, 1, 7]\n",
        "# Cuando hayas hecho el cambio, ejecuta la celda.\n",
        "\n",
        "# Esta línea crea una gráfica de barras.\n",
        "# Le pasamos nuestros valores x_valores y y_valores\n",
        "graph.bar(x_valores, y_valores)"
      ],
      "execution_count": null,
      "outputs": []
    },
    {
      "cell_type": "markdown",
      "metadata": {
        "id": "qpo-nErs9cc6",
        "colab_type": "text"
      },
      "source": [
        "Esto es algo muy simple, pero para nuestro caso `x` y `y` son nuestros datos.\n",
        "\n",
        "Si lo prefieres, puedes jugar un poco con el código:\n",
        "* Cambia los valores `x` y `y` y observa cómo cambia la gráfica. Sólo asegúrate de que cada lista de valores contiene el mismo número de elementos.\n",
        "* Cambia el método `graph.bar` por `graph.scatter` para cambiar el tipo de gráfica."
      ]
    },
    {
      "cell_type": "markdown",
      "metadata": {
        "id": "ZoMavYVA-Oil",
        "colab_type": "text"
      },
      "source": [
        "### Paso 6\n",
        "\n",
        "De vez en cuando, cargaremos datos de archivos de texto, en lugar de escribirlos en el código. No puedes ver estos archivos de texto en tu navegador porque están guardados en el repositorio donde tenemos todo el material; pero lo pasaremos al servidor que ejecuta este sitio web usando código. Carguemos uno, vamos a verlo y luego lo graficaremos.\n",
        "\n",
        "**En la celda debajo escribe `datos.head()` entre los comentarios `###` y `###`, y ejecuta el código.**"
      ]
    },
    {
      "cell_type": "code",
      "metadata": {
        "trusted": true,
        "id": "N9oO06BZ9cc6",
        "colab_type": "code",
        "colab": {}
      },
      "source": [
        "import pandas as pd\n",
        "\n",
        "# The next line loads information about chocolate bars and saves it in a variable called 'data'\n",
        "url_a_datos = 'https://raw.githubusercontent.com/innovaccion-virtual/innovaccion-ml-curso-python/master/data/chocolate%20data.txt'\n",
        "datos = pd.read_csv(url_a_datos, index_col=False, sep='\\t')\n",
        "\n",
        "### \n",
        "# ESCRIBE datos.head() PARA TENER UNA VISTA DE LOS DATOS\n",
        "###\n",
        "\n",
        "###"
      ],
      "execution_count": null,
      "outputs": []
    },
    {
      "cell_type": "markdown",
      "metadata": {
        "id": "Tc1SKNZU9cc9",
        "colab_type": "text"
      },
      "source": [
        "Cada fila (horizontal) muestra información acerca de una barra de chocolate. Por ejemplo, la primer barra de chocolate contiene:\n",
        "* 185 gramos\n",
        "* 65% cocoa\n",
        "* 11% azucar\n",
        "* 24% leche\n",
        "* y un cliente/consumidor dijo que estaba 47% feliz/satisfecho(a) con él\n",
        "\n",
        "De lo anterior, diríamos que las características de nuestra barra de chocolate son peso, % de cacao, % de azúcar y % de leche."
      ]
    },
    {
      "cell_type": "markdown",
      "metadata": {
        "id": "FtElj0pKE1Q7",
        "colab_type": "text"
      },
      "source": [
        "## Conclusión\n",
        "\n",
        "__Well done__ that's the end of programming exercise one.\n",
        "\n",
        "You can now go back to the course and click __'Next Step'__ to move onto some key concepts of AI - models and error.\n",
        "\n",
        "**¡Bien hecho!** Este es el final del primer ejercicio de programación.\n",
        "\n",
        "Ahora puedes volver los contenidos y continuar con el siguiente cuaderno, donde pasaremos a revisar algunos conceptos clave de IA: modelos y error.\n"
      ]
    },
    {
      "cell_type": "markdown",
      "metadata": {
        "id": "1-KupvST7Gmy",
        "colab_type": "text"
      },
      "source": [
        "### (Opcional) Paso 7\n",
        "\n",
        "> Cuando decimos \"opcional\" nos referimos a ejercicios que pueden ayudarte a aprender, pero que no tienes que hacer de manera obligatoria.\n",
        "\n",
        "Podemos graficar algunas de las características de la barra de chocolate en un diagrama de dispersión. Pongamos `\u001dcocoa_percent`\u001d en el eje `\u001dx`\u001d y la felicidad del cliente en el eje `\u001dy`.\n",
        "\n",
        "En la celda siguiente, reemplaza `\u001d<y_valores>`\u001d con `\u001dcustomer_happiness`\u001d y luego ejecute el código."
      ]
    },
    {
      "cell_type": "code",
      "metadata": {
        "trusted": true,
        "id": "KNVrYeAN9cc-",
        "colab_type": "code",
        "colab": {}
      },
      "source": [
        "x_valores = datos.cocoa_percent\n",
        "\n",
        "###\n",
        "# REEMPLAZA <y_valores> DEBAJO CON customer_happiness\n",
        "###\n",
        "y_valores = dataset.<y_valores>\n",
        "###\n",
        "\n",
        "graph.scatter(x_valores, y_valores)"
      ],
      "execution_count": null,
      "outputs": []
    },
    {
      "cell_type": "markdown",
      "metadata": {
        "id": "4Ovu5QFS9cdA",
        "colab_type": "text"
      },
      "source": [
        "En esta gráfica, cada barra de chocolate está representado con un punto. Más adelante analizaremos estos datos con IA."
      ]
    }
  ]
}